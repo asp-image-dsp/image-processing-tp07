{
 "cells": [
  {
   "cell_type": "markdown",
   "metadata": {},
   "source": [
    "# Ejercicio 5"
   ]
  },
  {
   "cell_type": "code",
   "execution_count": 2,
   "metadata": {},
   "outputs": [],
   "source": [
    "import numpy as np"
   ]
  },
  {
   "cell_type": "code",
   "execution_count": 3,
   "metadata": {},
   "outputs": [],
   "source": [
    "import matplotlib.pyplot as plt"
   ]
  },
  {
   "cell_type": "code",
   "execution_count": 4,
   "metadata": {},
   "outputs": [],
   "source": [
    "import cv2 as cv"
   ]
  },
  {
   "cell_type": "code",
   "execution_count": 5,
   "metadata": {},
   "outputs": [],
   "source": [
    "def plot_comparison(imgs, titles):\n",
    "    N = len(imgs)\n",
    "\n",
    "    fig, ax = plt.subplots(1, N, figsize=(N*5, 8))    \n",
    "    for k in range(N):\n",
    "        ax[k].imshow(imgs[k], cmap='gray')\n",
    "        ax[k].axis('off')\n",
    "        ax[k].set_title(titles[k], fontsize=15)\n",
    "    plt.show()"
   ]
  },
  {
   "cell_type": "markdown",
   "metadata": {},
   "source": [
    "## Item c - Top-Hat Transform\n"
   ]
  },
  {
   "cell_type": "code",
   "execution_count": 14,
   "metadata": {},
   "outputs": [
    {
     "data": {
      "image/png": "[encoded data removed]",
      "text/plain": [
       "<Figure size 432x288 with 1 Axes>"
      ]
     },
     "metadata": {
      "needs_background": "light"
     },
     "output_type": "display_data"
    }
   ],
   "source": [
    "img = cv.imread('../resources/fig-ex5c-2.jpg', cv.IMREAD_GRAYSCALE) / 255\n",
    "\n",
    "img = (img >= 0.5).astype(np.uint8)\n",
    "\n",
    "plt.imshow(img, cmap='gray')\n",
    "plt.axis('off')\n",
    "plt.show()"
   ]
  },
  {
   "cell_type": "code",
   "execution_count": 21,
   "metadata": {},
   "outputs": [
    {
     "data": {
      "image/png": "[encoded data removed]",
      "text/plain": [
       "<Figure size 1080x576 with 3 Axes>"
      ]
     },
     "metadata": {
      "needs_background": "light"
     },
     "output_type": "display_data"
    }
   ],
   "source": [
    "kernel = np.ones((35, 35), dtype=np.uint8)\n",
    "tophat = cv.morphologyEx(img, cv.MORPH_TOPHAT, kernel)\n",
    "opening = cv.morphologyEx(img, cv.MORPH_OPEN, kernel)\n",
    "\n",
    "plot_comparison([img, tophat, opening], ['Imagen Original', 'Top-Hat', 'Opening'])"
   ]
  },
  {
   "cell_type": "markdown",
   "metadata": {},
   "source": [
    "La transformación Top-Hat es la diferencia entre la imagen original y la operación de apertura. Por lo tanto, nos muestra qué pixeles blancos son removidos por la operación de apertura, como se muestra en la comparación."
   ]
  },
  {
   "cell_type": "markdown",
   "metadata": {},
   "source": [
    "## Item d - Hit and Miss"
   ]
  },
  {
   "attachments": {
    "ex5_d_kernel.png": {
     "image/png": "[encoded data removed]"
    }
   },
   "cell_type": "markdown",
   "metadata": {},
   "source": [
    "La transformación hit and miss se usa para buscar patrones particulares en los pixeles de una imágen. \n",
    "Por ejemplo es muy utilizada para obtener las esquinas en una imágen aplicando un kernel como el siguiente:\n",
    "\n",
    "<img src=\"../resources/ex5_d_kernel.png\" />\n",
    "\n",
    "Luego este mismo kernel se lo rota 90 grados tres veces para obtener cuatro kernels distintos, uno para cada esquina. Se translada el kernel a cada pixel de la imagen original y se compara para ver si coinciden completamente. Cuando coincide se setea ese pixel como 1 y sino como 0. Luego se aplcia la intersección entre el resultado obtenido para cada uno de los kernels y se obtiene el resultado final."
   ]
  }
 ],
 "metadata": {
  "kernelspec": {
   "display_name": "Python 3",
   "language": "python",
   "name": "python3"
  },
  "language_info": {
   "codemirror_mode": {
    "name": "ipython",
    "version": 3
   },
   "file_extension": ".py",
   "mimetype": "text/x-python",
   "name": "python",
   "nbconvert_exporter": "python",
   "pygments_lexer": "ipython3",
   "version": "3.7.6"
  }
 },
 "nbformat": 4,
 "nbformat_minor": 4
}
