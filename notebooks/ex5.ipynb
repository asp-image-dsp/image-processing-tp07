{
 "cells": [
  {
   "cell_type": "markdown",
   "metadata": {},
   "source": [
    "# Ejercicio 5"
   ]
  },
  {
   "cell_type": "markdown",
   "metadata": {},
   "source": [
    "## Ítem a - Thinning"
   ]
  },
  {
   "cell_type": "markdown",
   "metadata": {},
   "source": [
    "Se utiliza para \"afinar\" la región *foreground* de tal forma que su extensión y conectividad se mantenga. Preservar la extensión significa preservar los puntos terminales que caracterizan a la estructura, mientras que preservar la conectividad puede referirse a conexiones 4-conexas o 8-conexas (teniendo en cuenta los pixels circundantes al que se está procesando)\n",
    "\n",
    "*Thinning* es principalmente utilizado para producir \"esqueletos\" de imágenes que sirven para describirlas, o para reducir el output de *edge-detectors* a un pixel de ancho.\n",
    "\n",
    "La operación de *Thinning*"
   ]
  },
  {
   "cell_type": "markdown",
   "metadata": {},
   "source": [
    "## Item d - Hit and Miss"
   ]
  },
  {
   "attachments": {
    "ex5_d_kernel.png": {
     "image/png": "[encoded data removed]"
    }
   },
   "cell_type": "markdown",
   "metadata": {},
   "source": [
    "La transformación hit and miss se usa para buscar patrones particulares en los pixeles de una imágen. \n",
    "Por ejemplo es muy utilizada para obtener las esquinas en una imágen aplicando un kernel como el siguiente:\n",
    "\n",
    "<img src=\"../resources/ex5_d_kernel.png\" />\n",
    "\n",
    "Luego este mismo kernel se lo rota 90 grados tres veces para obtener cuatro kernels distintos, uno para cada esquina. Se translada el kernel a cada pixel de la imagen original y se compara para ver si coinciden completamente. Cuando coincide se setea ese pixel como 1 y sino como 0. Luego se aplcia la intersección entre el resultado obtenido para cada uno de los kernels y se obtiene el resultado final."
   ]
  }
 ],
 "metadata": {
  "kernelspec": {
   "display_name": "Python 3",
   "language": "python",
   "name": "python3"
  },
  "language_info": {
   "codemirror_mode": {
    "name": "ipython",
    "version": 3
   },
   "file_extension": ".py",
   "mimetype": "text/x-python",
   "name": "python",
   "nbconvert_exporter": "python",
   "pygments_lexer": "ipython3",
   "version": "3.8.5"
  }
 },
 "nbformat": 4,
 "nbformat_minor": 4
}
